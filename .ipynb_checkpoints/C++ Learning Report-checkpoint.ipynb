{
 "cells": [
  {
   "cell_type": "markdown",
   "metadata": {},
   "source": [
    "# C++学习笔记\n",
    "\n",
    "这篇报告主要将会从C++的函数开始记录。"
   ]
  },
  {
   "cell_type": "markdown",
   "metadata": {},
   "source": [
    "## 第七章 函数——C++的编程模块"
   ]
  },
  {
   "cell_type": "markdown",
   "metadata": {},
   "source": [
    "C++的函数返回只有一个很奇怪的设定——函数的返回值不能是数组，但可以是其他的任何类型——整数，浮点数，指针甚至是对象和结构体。函数定以后大多在主函数中被调用，由于编译器是从上到下扫描程序文件的，因此如果函数的定义在主函数之后，那么就需要在主函数前面增加函数原型，函数原型指明了函数的返回值类型，参数列表等等信息，通常是以下这种形式：\n",
    "\n",
    "```C++\n",
    "returnType functionName(parameterType, parameterType, ...)\n",
    "```"
   ]
  },
  {
   "cell_type": "markdown",
   "metadata": {},
   "source": [
    "### 可变参数"
   ]
  },
  {
   "cell_type": "markdown",
   "metadata": {},
   "source": [
    "本章中，偶然看了一个函数可变参数的例子，虽然没有深入地将函数的可变参数，但是还是可以初步地看看：C++中的函数可变参数和Java中的写法类似，都是要通过`...`来表示可变参数，下面是一个可变参数的例子：\n",
    "\n",
    "```C++\n",
    "void simple(int n, ...){\n",
    "    using namespace std;\n",
    "    va_list lst;//获取可变参数列表\n",
    "    _crt_va_start(lst, n);//告知可变参数起始位置：传入最后一个固定参数\n",
    "    double a = _crt_va_arg(lst, double);//第一个可变参数\n",
    "    double b = _crt_va_arg(lst, double);//第二个可变参数\n",
    "    _crt_va_end(lst);//结束对可变参数的使用\n",
    "    cout << a << \" - \" << b << endl;\n",
    "}\n",
    "simple(5, 2.3, 2.5)\n",
    "```"
   ]
  },
  {
   "cell_type": "markdown",
   "metadata": {},
   "source": [
    "与Java中的可变参数不同，C++中的可变参数必须要首先定义至少一个固定参数，在使用时首先通过`va_list`定义一个可变参数列表，然后通过`_crt_va_start`定义可变参数开始位置，`_crt_va_arg`来取可变参数，最后通过`_crt_va_end`来结束可变参数的使用。"
   ]
  },
  {
   "cell_type": "markdown",
   "metadata": {},
   "source": [
    "### `const`关键字"
   ]
  },
  {
   "cell_type": "markdown",
   "metadata": {},
   "source": [
    "`const`关键字用于修饰变量，指变量是不能更改的，是一个只读变量。它的用法总结如下：\n",
    "\n",
    "1. 有`const`关键字修饰的变量不能赋值给没有`const`修饰的变量，但是一个没有`const`修饰的变量可以赋值给有`const`修饰的变量。\n",
    "\n",
    "2. 在指针的使用中，`const`关键字修饰的变量与其位置有关，具体而言就是如果`const`关键字在`*`运算符的左边，则`*变量名`都是`const`的，如果`const`在`*`运算符的右边，那么`变量名`是`const`的。\n",
    "\n",
    "举例如下："
   ]
  },
  {
   "cell_type": "markdown",
   "metadata": {},
   "source": [
    "```C++\n",
    "int sumArray(int *array, int count){\n",
    "    int sum = 0;\n",
    "    for (int i = 0; i < count; i ++){\n",
    "        array[i] = i + 1;\n",
    "    }\n",
    "    return sum;\n",
    "}\n",
    "/*\n",
    " * 若前面加上const关键字，则这个数组就是不可更改的,\n",
    " * 且编译器有规定，禁止将const修饰的变量赋值给非const修饰的变量，也就是说如果下面代码的array前面加上const修饰，\n",
    " * 则下面的sumArray函数调用将报错，因为sumArray的参数列表中的array前面没有加const修饰符\n",
    " * */\n",
    "int array[20] = {1, 2, 3, 4, 5, 6, 7, 8, 9, 10, 11, 12, 13, 14, 15, 16, 17, 18, 19, 20};\n",
    "cout << sumArray(array, 20) << endl;//传递数组指针\n",
    "/*\n",
    " *下面这样的调用是错误的，因为array有const关键字修饰，但是参数列表中没有，那么这样的调用就代表着将一个const修饰的array\n",
    " *赋值给一个没有const修饰的变量，自然就会报错\n",
    " * */\n",
    "int const array[20] = {1, 2, 3, 4, 5, 6, 7, 8, 9, 10, 11, 12, 13, 14, 15, 16, 17, 18, 19, 20};\n",
    "cout << sumArray(array, 20) << endl;//传递数组指针\n",
    "```"
   ]
  },
  {
   "cell_type": "markdown",
   "metadata": {},
   "source": [
    "接下来举例`const`关键字修饰规则：\n",
    "\n",
    "```C++\n",
    "int a = 5;//定义一个整型变量\n",
    "/*\n",
    " *在这里，const关键字加在了*运算符的前面，这就代表着*p是被const修饰的，\n",
    " *但是同时也代表了p并不是由const关键字修饰的。这里的意思是：\n",
    " *使用*p=xxx来改变值的操作是错误的，但是p这个整形指针却是可以指向另一个内存的。\n",
    " * */\n",
    "int const *p = &a;\n",
    "int b = 20;\n",
    "*p = 24;//这样的代码是不能被执行的，因为*p有const关键字修饰。\n",
    "p = &b;//这样的代码是可以被执行的，因为p本身没有被const关键字修饰。\n",
    "\n",
    "int * const p = &a;\n",
    "*p = 25;//这样的代码是可以被执行的，且a的值被改动成25，因为const关键字修饰的是p而非*p，因次*p可以被改变\n",
    "p = &b;//这样的代码是无法执行的，因为const关键字修饰了p，这就意味着这个整形指针不能指向别处。\n",
    "````"
   ]
  },
  {
   "cell_type": "markdown",
   "metadata": {},
   "source": [
    "### 二维数组和地址\n",
    "\n",
    "这是C++里面一个比较难的点，笔者也是花了不少时间才把这个弄得基本明白，现在把知识点总结在下面："
   ]
  },
  {
   "cell_type": "markdown",
   "metadata": {},
   "source": [
    "* 首先要关注的是二重指针`**`，这样的指针使用来指向指针数组的，而指针本身又可以指向一个数组。这样就构成了一个近似的二维数组：\n",
    "\n",
    "```C++\n",
    "int a[5] = {1,2,3,4,5};\n",
    "int b[5] = {2,3,4,5,6};\n",
    "int c[5] = {3,4,5,6,7};\n",
    "int *array[3] = {a, b, c};\n",
    "int **ap = array;\n",
    "for (int i = 0; i < 3; i ++){\n",
    "    for (int j = 0; j < 5; j ++){\n",
    "        cout << (*(ap + i))[j] << \" \";//将(*(ap + i))[j]改成ap[i][j]或*(*(ap + i) + j)也可以运行\n",
    "    }\n",
    "    cout << endl;\n",
    "}\n",
    "```\n",
    "关于这段程序的理解：由于`ap`是指向一个指针数组的首地址，因此对`ap`的运算实际上是对指针指向改变，且每次加一就会指向一个新的整形指针，要使用这个整形指针就对二重指针使用一次`*`运算符，这样就得到了其指向地址的值——整形指针。然后再按照一重指针的相关操作进行就可以了。"
   ]
  },
  {
   "cell_type": "markdown",
   "metadata": {},
   "source": [
    "* 然后要说的是最难理解的二维数组的指针，首先来看一个例子：\n",
    "\n",
    "```C++\n",
    "int a[5] = {1, 2, 3, 4, 5};\n",
    "int *p = a = &a[0];//这个整形指针指向了上面一维数组的首地址\n",
    "/*\n",
    " * 下面的指针指向的是一个长度为5的整形数组，和上面指针的区别在于，上面的指针指向的是一个整型值（数组的首地址）\n",
    " * 而下面的指针指向的是一个长度为5的整形数组。具体来说就是：如果对上面的指针执行加一操作即p++，那么它偏移的\n",
    " * 是一个整形数字的长度，而如果对下面这个数组指针进行操作，那么它偏移的是五个整型值的距离，也就是数组的长度。\n",
    " * 需要特别说明的是：之所以加括号是因为*的运算符优先级要小于[]，如果不加括号的话，pa就会首先和[]运算，这样就会解释成\n",
    " * 5个整形指针数组，而非一个长度为五的数组指针。因此括号是必须的。\n",
    " * */\n",
    "int (*pa)[5] = &a\n",
    "```"
   ]
  },
  {
   "cell_type": "markdown",
   "metadata": {},
   "source": [
    "那么在二维数组的情况下呢？我们在通过一个例子来说明：\n",
    "\n",
    "```C++\n",
    "int sumTwoDimMatrix(int p[][3], int row){\n",
    "    int sum = 0;\n",
    "    for (int i = 0; i < row; i ++){\n",
    "        for (int j = 0; j < 3; j ++){\n",
    "            /*\n",
    "             * 使用这样的表达式p + i代表着这个数组指针指向了二维数组中的第i个数组，前面加*运算符代表着具体引用了指向这个数组首地址的\n",
    "             * 指针，再加j指的是该数组首地址再向后偏移j个整形长度，最后最外层再加上*号运算符，代表着引用其值。\n",
    "             * */\n",
    "            sum += *(*(p + i) + j);\n",
    "        }\n",
    "    }\n",
    "    return sum;\n",
    "}\n",
    "int matrix[2][3] = {//首先定义一个二维数组\n",
    "    {1,2,3},\n",
    "    {4,5,6}\n",
    "};\n",
    "int (*p)[3] = matrix;\n",
    "cout << sumTwoDimMatrix(matrix, 2) << endl;\n",
    "```\n",
    "\n",
    "上面例子指出：一个二维数组的的首地址指的是一个数组，也就是说`matrix`指的是二维数组第一个长度为三的数组的地址。指向的是一个数组地址，我们可以观察到在函数的参数列表和`int (*p)[3] = matrix;`中，数组地址的写法有区别，但是说的的确是同一回事。这也就解释了为什么函数的参数列表中接受一个二维数组时为什么一定要明确给出数组的列数，这是因为这样就给编译器指出，指针加一时具体的偏移量，以上面的例子来说指针加一就是偏移了3个整型值的长度。"
   ]
  },
  {
   "cell_type": "markdown",
   "metadata": {},
   "source": [
    "### 字符串地址\n",
    "\n",
    "在这里主要说一个“失败”的例子，这个例子中引出了一个事实——在函数参数中传递指针，该指针也只是原始指针的一个拷贝。具体的代码如下：\n",
    "\n",
    "```C++\n",
    "std::string show_string(std::string *str){\n",
    "    std::string str1 = \"I am a Chinese\";\n",
    "    /*\n",
    "     * 虽然参数是一个string类型的指针，但是这个指针也只是原有指针的一个拷贝。\n",
    "     * 把它指向别的内存地址也只是将拷贝指向别的地址，当函数结束这个拷贝也会被删除，对原有指针不会造成任何影响\n",
    "     * */\n",
    "    str = &str1;\n",
    "    return str1;\n",
    "}\n",
    "string str = \"I love my country\";//string类型的操作参考java\n",
    "show_string(&str);//传递指针时，其实也是传递了一个指针的拷贝\n",
    "cout << str << endl;//输出依然是I love my country\n",
    "```"
   ]
  },
  {
   "cell_type": "markdown",
   "metadata": {},
   "source": [
    "### `vector`和`array`"
   ]
  },
  {
   "cell_type": "markdown",
   "metadata": {},
   "source": [
    "对这两个数据结构的操作要点是，在函数的参数中传入其地址，这样有两个好处：\n",
    "\n",
    "1. 函数调用时不用拷贝整个`vector`或`array`的值，只用传递其指针，这样速度会快很多。\n",
    "\n",
    "2. 传递指针可以对原有数据结构进行修改。\n",
    "\n",
    "代码如下：\n",
    "\n",
    "```C++\n",
    "void show(std::array<std::string, 4> obj){\n",
    "    for (int i = 0; i < obj.size(); i ++){\n",
    "        cout << obj[i] << \" \";\n",
    "    }\n",
    "}\n",
    "\n",
    "void modify_array(std::array<std::string, 4> *obj){\n",
    "    for (int i = 0; i < (*obj).size(); i ++){\n",
    "        (*obj)[i] += \"-er\";\n",
    "    }\n",
    "}\n",
    "\n",
    "void show_vec(std::vector<int> obj){\n",
    "    for (int i = 0; i < obj.size(); i ++){\n",
    "        cout << obj[i] << \" \";\n",
    "    }\n",
    "}\n",
    "//vector\n",
    "vector<int> vec(4);\n",
    "for(int i = 0; i < vec.size(); i ++){\n",
    "    vec[i] = i * i;\n",
    "}\n",
    "show_vec(vec);\n",
    "cout << endl << \"array content is \" << endl;\n",
    "//array\n",
    "std::array<std::string, 4> ary = {\"spring\", \"summer\", \"autumn\", \"winter\"};\n",
    "show(ary);\n",
    "modify_array(&ary);\n",
    "cout << endl;\n",
    "show(ary);\n",
    "```\n",
    "输出如下：\n",
    "\n",
    "```shell\n",
    "0 1 4 9\n",
    "array content is\n",
    "spring summer autumn winter\n",
    "spring-er summer-er autumn-er winter-er\n",
    "```"
   ]
  },
  {
   "cell_type": "markdown",
   "metadata": {},
   "source": [
    "### 函数指针\n",
    "\n",
    "函数指针是指向函数的指针，使用这个技术就可以实现类似于接口的功能，程序设计者可以让使用者传入自己编写的函数指针，进而改变原有函数的行为。通常，一个函数指针类似于这样：\n",
    "\n",
    "```C++\n",
    "double *func2(const double *p, int count){\n",
    "    double *presult = new double[count];\n",
    "    for (int i = 0; i < count; i ++){\n",
    "        presult[i] = *(p + i);\n",
    "        cout << \"This is func2: \" << *(p + i) << std::endl;\n",
    "    }\n",
    "    return presult;\n",
    "}\n",
    "double *(*fp)(const double*, int) = func2\n",
    "```"
   ]
  },
  {
   "cell_type": "markdown",
   "metadata": {},
   "source": [
    "我们使用`fp`就可以指代这个函数，在我们需要使用这个函数的时候使用以下两种形式都是可以的：\n",
    "\n",
    "```C++\n",
    "double pd[5] = {1.2, 2.5, 3.6, 2.4, 9.58};\n",
    "*pf(pd, 5);\n",
    "pf(pd, 5);\n",
    "```\n",
    "\n",
    "至于具体为什么两种形式都可以，是因为这两种形式都是可以讲得通，具体的可以参见书的第243页。"
   ]
  },
  {
   "cell_type": "markdown",
   "metadata": {},
   "source": [
    "接着要介绍函数指针数组的一些知识，通常一个指向函数指针数组首地址的指针这样写：\n",
    "\n",
    "```C++\n",
    "double *func2(const double *p, int count){\n",
    "    double *presult = new double[count];\n",
    "    for (int i = 0; i < count; i ++){\n",
    "        presult[i] = *(p + i);\n",
    "        cout << \"This is func2: \" << *(p + i) << std::endl;\n",
    "    }\n",
    "    return presult;\n",
    "}\n",
    "\n",
    "double *func3(const double *p, int count){\n",
    "    double *presult = new double[count];\n",
    "    for (int i = 0; i < count; i ++){\n",
    "        presult[i] = *(p + i);\n",
    "        cout << \"This is func3: \" << *(p + i) << std::endl;\n",
    "    }\n",
    "    return presult;\n",
    "}\n",
    "\n",
    "double *func1(const double *p, int count){\n",
    "    double *presult = new double[count];\n",
    "    for (int i = 0; i < count; i ++){\n",
    "        presult[i] = *(p + i);\n",
    "        cout << \"This is func1: \" << *(p + i) << std::endl;\n",
    "    }\n",
    "    return presult;\n",
    "}\n",
    "double *(*fp[3])(const double*, int) = {func1, func2, func3};\n",
    "```"
   ]
  },
  {
   "cell_type": "markdown",
   "metadata": {},
   "source": [
    "可以这样使用这种指针：\n",
    "\n",
    "```C++\n",
    "double pd[5] = {1.2, 2.5, 3.6, 2.4, 9.58};\n",
    "(*(fp + 2))(pd, 5);\n",
    "//或\n",
    "fp[2](pd, 5);\n",
    "```"
   ]
  },
  {
   "cell_type": "markdown",
   "metadata": {},
   "source": [
    "除此之外，还可以定义一个指向函数指针数组的指针：\n",
    "\n",
    "```C++\n",
    "double *func2(const double *p, int count){\n",
    "    double *presult = new double[count];\n",
    "    for (int i = 0; i < count; i ++){\n",
    "        presult[i] = *(p + i);\n",
    "        cout << \"This is func2: \" << *(p + i) << std::endl;\n",
    "    }\n",
    "    return presult;\n",
    "}\n",
    "\n",
    "double *func3(const double *p, int count){\n",
    "    double *presult = new double[count];\n",
    "    for (int i = 0; i < count; i ++){\n",
    "        presult[i] = *(p + i);\n",
    "        cout << \"This is func3: \" << *(p + i) << std::endl;\n",
    "    }\n",
    "    return presult;\n",
    "}\n",
    "\n",
    "double *func1(const double *p, int count){\n",
    "    double *presult = new double[count];\n",
    "    for (int i = 0; i < count; i ++){\n",
    "        presult[i] = *(p + i);\n",
    "        cout << \"This is func1: \" << *(p + i) << std::endl;\n",
    "    }\n",
    "    return presult;\n",
    "}\n",
    "double *(*fp[3])(const double*, int) = {func1, func2, func3};\n",
    "double *(*(*fp1)[3])(const double *, int) = &fp;\n",
    "```"
   ]
  },
  {
   "cell_type": "markdown",
   "metadata": {},
   "source": [
    "上面的代码表明：`fp1`指向的是一个长度为3的函数指针数组，可以这样使用它：\n",
    "\n",
    "```C++\n",
    "double pd[5] = {1.2, 2.5, 3.6, 2.4, 9.58};\n",
    "(*(*fp1 + 2))(pd, 5)\n",
    "//或\n",
    "(*fp1)[2](pd, 5);\n",
    "```"
   ]
  },
  {
   "cell_type": "markdown",
   "metadata": {},
   "source": [
    "最后，如果嫌函数指针的写法太冗长，可以使用`typedef`：\n",
    "\n",
    "```C++\n",
    "typedef double *(*(*p_func)[3])(const double*, int) ;\n",
    "p_func pointer = &fp;\n",
    "```\n",
    "在随后的程序中`p_func`就可以指代指向一个特定函数指针数组的指针了。"
   ]
  },
  {
   "cell_type": "markdown",
   "metadata": {},
   "source": [
    "## 第八章 函数探幽"
   ]
  },
  {
   "cell_type": "code",
   "execution_count": null,
   "metadata": {},
   "outputs": [],
   "source": []
  }
 ],
 "metadata": {
  "kernelspec": {
   "display_name": "Python 3",
   "language": "python",
   "name": "python3"
  },
  "language_info": {
   "codemirror_mode": {
    "name": "ipython",
    "version": 3
   },
   "file_extension": ".py",
   "mimetype": "text/x-python",
   "name": "python",
   "nbconvert_exporter": "python",
   "pygments_lexer": "ipython3",
   "version": "3.5.4"
  }
 },
 "nbformat": 4,
 "nbformat_minor": 2
}
