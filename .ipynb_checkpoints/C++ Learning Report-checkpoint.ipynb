{
 "cells": [
  {
   "cell_type": "markdown",
   "metadata": {},
   "source": [
    "#  C++学习笔记"
   ]
  },
  {
   "cell_type": "markdown",
   "metadata": {},
   "source": [
    "## 第4章"
   ]
  },
  {
   "cell_type": "markdown",
   "metadata": {},
   "source": [
    "* C++中对数组和变量进行赋值有一些不同于C语言的地方，对数组进行赋值。\n",
    "\n",
    "```C++\n",
    "int array[4] = {1,2,3,5};\n",
    "```\n",
    "\n",
    "* 对变量进行赋值可以省略`=`号。\n",
    "\n",
    "```C++\n",
    "int val{5}\n",
    "```\n",
    "* 如果对数组进行赋值，可以用花括号对其中的每个值进行指定，也可以对其部分值进行指定，若只对部分值进行指定，那么剩下的值将会被初始化成为0\n",
    "\n",
    "```C++\n",
    "int a[20] = {1}//这种情况下，a数组将会把其第一个元素赋值为1，其余的赋值为0\n",
    "```\n",
    "\n",
    "* 传统的cin输入以空格为输入分割，若要输入的一个字符串中带有空格，则不能很好地录入，只能录入空格前的字符串，空格后的字符串会被缓存到输入队列中供后面的输入使用。\n",
    "\n",
    "```C++\n",
    "char val[20];\n",
    "cin.get(val, 20);//这样便可以接受带空格的字符串了\n",
    "```\n",
    "\n",
    "* "
   ]
  },
  {
   "cell_type": "code",
   "execution_count": null,
   "metadata": {},
   "outputs": [],
   "source": []
  }
 ],
 "metadata": {
  "kernelspec": {
   "display_name": "Python 3",
   "language": "python",
   "name": "python3"
  },
  "language_info": {
   "codemirror_mode": {
    "name": "ipython",
    "version": 3
   },
   "file_extension": ".py",
   "mimetype": "text/x-python",
   "name": "python",
   "nbconvert_exporter": "python",
   "pygments_lexer": "ipython3",
   "version": "3.5.4"
  }
 },
 "nbformat": 4,
 "nbformat_minor": 2
}
