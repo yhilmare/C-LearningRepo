{
 "cells": [
  {
   "cell_type": "markdown",
   "metadata": {},
   "source": [
    "#  C++学习笔记\n",
    "\n",
    "终于在研二开始了C++的系统学习，之前本科的时候学的太不扎实了，很多东西都已经忘记了，甚至连`cin`和`cout`的流运算符方向都忘记了。现在要全都捡起来，系统性地补充这些知识。"
   ]
  },
  {
   "cell_type": "markdown",
   "metadata": {},
   "source": [
    "## 第三章 处理数据"
   ]
  },
  {
   "cell_type": "markdown",
   "metadata": {},
   "source": [
    "这一章主要讲了C++的一些基本数据类型，没有什么新的东西。需要注意的首先是有一个`#include<climits>`头文件，其中包含了例如整形存储的字节数，整形值的最大值等常量，具体的表格请查阅第六版的41页。\n",
    "\n",
    "其次是一个强制转换函数，个人觉得还比较有用：\n",
    "\n",
    "```C++\n",
    "int thorn = 3;\n",
    "double thorn_d = static_cast<double>(thorn);//强制转换\n",
    "cout << thorn_d << endl;\n",
    "```\n",
    "\n",
    "最后，是一些前缀和后缀的使用，例如如果在一个字符串前使用`u`前缀，表明这是一个`char16_t`字符串，使用`U`前缀表明这是一个`char32_t`字符串。在一个数字后面使用`f`后缀表明这个值是一个`float`型的变量等等。还有就是八进制以`0`开头，十六进制以`0x`开头，字符使用单引号表示`''`，而字符串使用双引号`\"\"`表示。"
   ]
  },
  {
   "cell_type": "markdown",
   "metadata": {},
   "source": [
    "## 第四章 复合类型"
   ]
  },
  {
   "cell_type": "markdown",
   "metadata": {},
   "source": [
    "### 数组和字符串\n",
    "\n",
    "在C++中复合类型对应于基本类型。**数组、结构和指针是C++三种复合类型。**C++中数组必须在创建时就对其进行初始化，一旦创建成功就不能对其初始化了，需要说明的是虽然不能对其进行初始化但还是可以根据下标索引改变其某个索引位置的值，这样的操作可以看成是一种特殊的“初始化”过程。C++11中增加了对数组的初始化方式，举例如下：\n",
    "\n",
    "```C++\n",
    "int array[4] = {1,2,3,5};//可以直接对其进行初始化\n",
    "int array_1[4]{1,2,3,4};//也可以直接省略等号运算符直接对其进行赋值\n",
    "int val{5}//C++11中对于这种基本类型也可以用花括号进行初始化，当然传统的等号运算符也是生效的。\n",
    "int a[20] = {1}//这种情况下，a数组将会把其第一个元素赋值为1，其余的赋值为0。\n",
    "```\n",
    "C++中的字符串有两种形式，一种是**继承自C语言**的，即字符串用字符数组表示，每个字符串的末尾用`\\0`结束码来标识结束。另一种是**C++中特有的**。如果要在C++程序中增加对C语言字符串的使用支持需要引入C语言处理字符串的头文件，该文件中包含了`strlen`，`strcmp`这样的函数，该头文件在C语言中写作`#include<string.h>`而在C++中写作`#include<cstring>`。C++中对字符数组进行初始化和C语言中完全一致，需要回忆的举例如下：\n",
    "\n",
    "```C++\n",
    "char val[5] = {'I', 'L', 'o', 'v', 'e'};//可以像这样使用数组形式初始化\n",
    "char val_1[5] = \"ILove\";//也可以使用字面量的形式对其进行初始化\n",
    "char val_2[] = \"I am a Chinese\";//与前两种不同的是，这种初始化方式不想要指定字符数组的大小，可以直接进行初始化，编译器会计算出其大小\n",
    "```\n",
    "\n",
    "C++中的字符串依然可以使用`cin`来进行输入，但是需要注意的是`cin`输入时是以空格作为输入结尾的，因此如果要输入带空格的字符串的话，使用`cin`就会产生很大的问题，很可能会把字符串从空格处截断，同时空格后的输入依然会保存在输入缓冲里，如果在接下来的程序中还含有`cin`输入，就会直接从刚才的输入缓冲中读取，而不会让使用者输入，这会造成很大的问题。解决这个问题的方法就在于使用另一个输入方式`cin.get`方法，该方法是专门为字符串而设计的，接受两个参数，一个是输入字符串的首地址，第二个是最大输入字符串的长度，这个输入方式以换行符为结尾，举例如下：\n",
    "\n",
    "```C++\n",
    "char val[20];\n",
    "cin.get(val, 20);//这样便可以接受带空格的字符串了\n",
    "```\n",
    "上面的代码就可以接受带空格的字符串了，因为`cin.get`并不以空格作为字符串输入的结尾，而是以换行符作为结尾，需要说明的是：`cin.get`输入并不抛弃换行符，而是将其作为输入依然留在输入缓冲里，这样就带来一个问题：如果一个程序中包含有很多输入，当第一个输入使用`cin.get`方法输入完成后，后一个`cin.get`可能完全得不到输入的机会，因为上一个输入完成后的换行符还留在输入缓冲里，下一个`cin.get`会发现输入缓冲里不为空进而直接从缓冲中读取换行符作为输入，而换行符又是`cin.get`的终结，因此后一个`cin.get`会完全无法输入。\n"
   ]
  },
  {
   "cell_type": "markdown",
   "metadata": {},
   "source": [
    "解决这个问题的方法有两个，第一个就是在每个`cin.get`后面再跟一个`cin.get`用以接受上一次输入的换行符，最终的效果是这样的`cin.get(dest, num).get()`，之所以可以这么写是因为`cin.get`返回的还是一个`cin`对象。另一个解决方案是：使用`cin.getline`方法，该方法和`cin.get`非常相似，不同的是该方法在使用换行符作为输入结尾的时候，并不保留换行符在输入缓冲里，而是直接丢弃，这样就不会带来有多个输入的时候`cin.get`所面临的问题了，跟`cin.get`相同的是`cin.getline`返回的也是`cin`对象。举例如下：\n",
    "\n",
    "```C++\n",
    "char val[20];\n",
    "char val_1[20];\n",
    "//以下的代码用以解决多个输入的时候cin.get换行符的问题\n",
    "cin.get(val, 20).get();\n",
    "cin.get(val_1, 20);\n",
    "//以下的代码用cin.getline解决多个输入时换行符的问题\n",
    "cin.getline(val, 20).getline(val_1, 20)//由于cin.getline返回的也是cin对象，因此可以这样写，达到一次输入两个字符串的功能，当然输入之间还是以换行符为分割\n",
    "```\n"
   ]
  },
  {
   "cell_type": "markdown",
   "metadata": {},
   "source": [
    "**需要说明的是：c++的string类型也对以上说明适用**"
   ]
  },
  {
   "cell_type": "markdown",
   "metadata": {},
   "source": [
    "`string`类型是C++中专门为处理字符串而设计的，要使用还需要在头文件中中包含`#include<string>`，`string`包含在`std`命名空间中，因此在使用时一般写作`std::string`，当然如果使用了`using namespace std`指令也可以直接使用`string`。\n",
    "\n",
    "`string`适用于穿的字符数组的一切初始化方法，并且不用担心字符串大小的问题，编译器会根据字符串大小动态调整`string`大小，同时`string`还支持`+`运算符的字符串拼接，举例如下：\n",
    "\n",
    "```C++\n",
    "#include<string>\n",
    "using namespace std;\n",
    "string name1 = \"Daivd\";\n",
    "string name2 = \"Smith\";//可以直接使用字面量进行赋值\n",
    "string name3 = name1 + name2;//可以用+运算符进行字符串的拼接\n",
    "string name4 = name1;//可以直接讲一个字符串指向另一个字符串进行赋值\n",
    "cout << name3.size()//string的size方法可以获取字符串的大小\n",
    "```\n",
    "\n",
    "`string`除了上面提到的输入之外，还可以使用`getline`函数进行输入操作，该函数和`cin.gline`不太相同，它只接受一个`cin`和待输入字符串作为参数，具体的调用请示如下：\n",
    "\n",
    "```C++\n",
    "string name;\n",
    "getline(cin, name);\n",
    "```"
   ]
  },
  {
   "cell_type": "markdown",
   "metadata": {},
   "source": [
    "以上是C++中关于字符串的主要知识，其余的还有`wchar_t`，`char16_t`和`char32_t`，这些和`char`是相似的，不同的是其存储一个字符所用的地址空间大小不同，这主要是为了解决Unicode下字符大小和ASCII码不同的问题。还有几个C++处理字符串的小trick。\n",
    "\n",
    "* 在字符串前面加上`u8`代表该字符串以utf-8编码。\n",
    "\n",
    "* 使用R\"()\"表示字符串中的转义符号全部不起作用。\n",
    "\n",
    "举例如下：\n",
    "\n",
    "```C++\n",
    "string name = u8\"我是一个中国人\";//这里代表该字符串使用UTF-8编码\n",
    "cout << R\"(I am a Chinese \\n)\" << endl;//这里代表其中的转义字符\\n不会被解释成换行，而是会按照其原有的样子输出。\n",
    "cout << R\"asd((Please tell my who yu are), I love you)asd\" << endl;//这样的写法是为了处理字符串中带有括号的问题，解决这个问题的办法就是加一个比较复杂的前缀和相同的后缀来作为字符串的结尾，这样编译器就不会将单纯的括号作为字符串的结尾了，就可以在字符串之间使用括号了。\n",
    "```"
   ]
  },
  {
   "cell_type": "markdown",
   "metadata": {},
   "source": [
    "### 结构体\n",
    "\n",
    "结构体也是C++中很重要的一种复合类型之一，用于处理基本数据类型无法处理的结构，其也是面向对象编程的重要基础。结构体可以使用类似于数组的初始化方法来初始化，并且如果声明时没有初始化就不能在再行初始化，但依然可以通过`.`运算符改变其中的值。\n",
    "\n",
    "```C++\n",
    "struct inflatable{\n",
    "    std::string name;\n",
    "    float volumn;\n",
    "    double price;\n",
    "};\n",
    "inflatable obj = {\"David\", 20, 19.98};//单纯结构体的初始化方式\n",
    "cout << obj.name << endl;\n",
    "obj.name = \"Smith\";//可以通过.运算符访问和修改结构体变量的值\n",
    "inflatable objs[2] = {\n",
    "    {\n",
    "        \"David\",\n",
    "        56,\n",
    "        15.69\n",
    "    },{\n",
    "        \"Smith\",\n",
    "        96,\n",
    "        13.59\n",
    "    }\n",
    "};//结构体数组的初始化方式\n",
    "```\n",
    "\n",
    "共用体是很特殊的，主要是为了节省内存，并不常用，主要的使用场景是，若一个变量的类型可能是`int`型，也可能是`double`型或者是`char`型，即变量的类型是不确定的，这种情况下就可以使用共用体，共用体中可以声明多种类型，具体使用时只可以使用其中的一种类型。具体可以翻书（第六版94页）。"
   ]
  },
  {
   "cell_type": "markdown",
   "metadata": {},
   "source": [
    "### 枚举\n",
    "\n",
    "C++中的枚举设计的很简单，其实本质上枚举值就是整形值，因为他们是可以进行整数加法的，而且枚举值如果不指定是默认从0开始递增的。举例如下：\n",
    "\n",
    "```C++\n",
    "enum spectrum {\n",
    "    /*\n",
    "     * 枚举类型本质上还是整形，从0开始递增\n",
    "     * */\n",
    "    red,//这里的枚举值为0\n",
    "    orange,//枚举值从0递增1，变为1\n",
    "    yellow,\n",
    "    green,\n",
    "    blue,\n",
    "    violet = 100,//设定枚举值为100，后面的枚举值从100开始递增\n",
    "    indigo,//枚举值变为101\n",
    "    ultraviolet\n",
    "};\n",
    "spectrum band;\n",
    "int color = blue + 1;//枚举值可以进行整数加法，color的值为4 + 1 = 5\n",
    "cout << color << endl;\n",
    "cout << blue << \" - \" << ultraviolet << endl;\n",
    "band = spectrum(112);//枚举值由于还是以int型存在的，因此也可以将枚举值赋值成为期不存在的枚举值，只要不超过其最大上限和小于最小下限。\n",
    "```"
   ]
  },
  {
   "cell_type": "markdown",
   "metadata": {},
   "source": [
    "### 指针\n",
    "\n",
    "C++中的指针和C语言中的非常相似。在C语言中使用`malloc`和`free`来分别分配和释放内存，在C++中使用`new`和`delete`运算符来分配和释放内存，需要说明是的如果是使用`new`运算符分配数组内存，即`new int[5]`，那么在释放内存时也需要使用`delete []`来释放，否则只会释放对应指针指向的内存。从而造成内存泄露。\n",
    "\n",
    "需要说明的是，指针也可以进行算术运算，即可以进行加减操作，在对一个指针进行加减操作时实际上是在改变其指向的地址。例如针对一个`int *p`指针进行加一操作`p+1`实际上是让p的指向向后偏移4个字节（这里默认计算机采用四个字节存储int），具体偏移多少个字节要看是什么类型的指针，如果是`char`型指针就偏移一个字节，如果是`double`型就偏移8个字节等。最后，指针还可以通过下标进行偏移，具体的例子如下：\n",
    "\n",
    "```C++\n",
    "int *a, b;//这样的写法是声明了一个a指针和一个b整型变量\n",
    "int *c = (int *)0x66225c;//这样的写法是将c指针指向了0x66225c这块内存\n",
    "\n",
    "double doughnut_1 = 15.69;\n",
    "int doughnut = 20;\n",
    "int *doughnut_p = &doughnut;//指针可以直接指向一块内存空间，但是未经初始化的指针不能直接赋值\n",
    "int *p_int = (int *)malloc(sizeof(int));//C语言风格的内存分配\n",
    "double *p_double = new double;//C++语言的内存分配\n",
    "*p_int = 25;//使用*运算符完成对指针的值引用，进而对其进行赋值\n",
    "*p_double = 15.56;\n",
    "free(p_int);//C语言释放内存\n",
    "delete p_double;//C++释放内存\n",
    "\n",
    "int *p_array = new int[3];//C++为数组分配内存\n",
    "p_array[0] = 120;//指针可以直接使用下标来索引值，书上说能这样做的原因还不清楚\n",
    "p_array[1] = 128;\n",
    "p_array[2] = 133;\n",
    "cout << (*p_array) << \" -> \" << *(p_array + 1) << \" -> \" << p_array[2] << endl;//除了使用下表，还可以针对指针进行算术运算达到地址偏移的目的，最后在使用*运算符对其值进行引用\n",
    "delete [] p_array;//释放数组内存，煮一定要写上方括号，否则不能完成释放\n",
    "\n",
    "int a_array[3] = {155, 122, 145};\n",
    "int *a_p = a_array;\n",
    "int *a_p_1 = &a_array[0];\n",
    "cout << sizeof(a_array) << \" -> \" << sizeof(a_p) << endl;//对数组和指针使用sizeof函数，前者将得到的是数组的大小，而后者得到的是指针的大小\n",
    "cout << a_p[0] << \" -> \" << *(a_p + 1) << \" -> \" << *(a_p_1 + 2) << endl;\n",
    "\n",
    "char animal[20] = \"animal\";\n",
    "/*\n",
    " * 就如同cout << \"bear\"可以被打印出来一样，字符串字面量代表着该字符串的首地址，\n",
    " * 因此这样的赋值是可以接受的，而int *a = 25这样的操作是禁止的，因为a并没有被初始化。\n",
    " * */\n",
    "const char *bear = \"bear\";\n",
    "char *ps;\n",
    "ps = animal;\n",
    "cout << \"animal at \" << (int *)animal << endl;\n",
    "cout << \"ps at \" << (int *)ps << endl;\n",
    "```"
   ]
  },
  {
   "cell_type": "markdown",
   "metadata": {},
   "source": [
    "最后提一点，指针的指针，即`typename **p`这样的结构通常是指向指针数组的，具体的使用举例如下：\n",
    "\n",
    "```C++\n",
    "struct stu {//定义了一个结构体\n",
    "    std::string name;\n",
    "};\n",
    "stu oj1, oj2, oj3;//声明了三个结构体对象\n",
    "oj1.name = \"Daivd\";//使用.运算符对其进行赋值\n",
    "oj2.name = \"Smith\";\n",
    "oj3.name = \"Ann\";\n",
    "stu *p[3] = {&oj1, &oj2, &oj3};//定义了一个指针数组，分别指向三个结构体\n",
    "stu **pStu = p;//两个*号通常都是指向指针数组的指针，一定要记住\n",
    "cout << pStu[0]->name << \" -> \" << pStu[1]->name << \" -> \" << pStu[2]->name << endl;//pStu[0]是通过下标索引找到指针数组的第一个结构体指针，然后通过->运算符引用他的值\n",
    "cout << pStu[0] << \" -> \" << pStu[1] << \" -> \" << pStu[2] << endl;\n",
    "```"
   ]
  },
  {
   "cell_type": "markdown",
   "metadata": {},
   "source": [
    "### vector和array\n",
    "\n",
    "这些都是C++中用来代替数组的模板类，使用时需要引入相应的头文件（`#include<vector>`和`#include<array>`）具体的使用如下所示：\n",
    "\n",
    "```C++\n",
    "vector<int> int_v(3);//这就是vector模板类的初始化方式，后面的括号是该vector的容量，可以用变量代替，意味着其大小在程序运行时时可变的。\n",
    "std::array<int, 3> int_a = {1, 2, 3};\n",
    "for (int i = 0; i < int_v.capacity(); i ++){//vector有特定的方法来获取其大小\n",
    "    int_v[i] = i;//支持数组的索引操作\n",
    "}\n",
    "for (int i = 0; i < int_a.size(); i ++){//array也是类似的，拥有方法来获取其大小\n",
    "    int_a[i] = i;\n",
    "}\n",
    "```"
   ]
  },
  {
   "cell_type": "code",
   "execution_count": null,
   "metadata": {},
   "outputs": [],
   "source": []
  }
 ],
 "metadata": {
  "kernelspec": {
   "display_name": "Python 3",
   "language": "python",
   "name": "python3"
  },
  "language_info": {
   "codemirror_mode": {
    "name": "ipython",
    "version": 3
   },
   "file_extension": ".py",
   "mimetype": "text/x-python",
   "name": "python",
   "nbconvert_exporter": "python",
   "pygments_lexer": "ipython3",
   "version": "3.5.4"
  }
 },
 "nbformat": 4,
 "nbformat_minor": 2
}
